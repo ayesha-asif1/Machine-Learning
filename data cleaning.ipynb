{
 "cells": [
  {
   "cell_type": "code",
   "execution_count": 8,
   "id": "8bcf49c4-347b-4ee0-a101-07def0bfc2ff",
   "metadata": {},
   "outputs": [
    {
     "name": "stdout",
     "output_type": "stream",
     "text": [
      "     Name   Age       City   Salary\n",
      "0  Ayesha  20.0     Lahore  50000.0\n",
      "1     Ali  22.0    Karachi      NaN\n",
      "2    Sara   NaN  Islamabad  67000.0\n",
      "3  Usmann  23.0       None  57790.0\n",
      "4    None  24.0     Lahore  34567.0\n"
     ]
    }
   ],
   "source": [
    "import numpy as np\n",
    "import pandas as pd\n",
    "data={\n",
    "    \"Name\":[\"Ayesha\",\"Ali\",\"Sara\",\"Usmann\",None],\n",
    "    \"Age\":[20,22,np.nan,23,24],\n",
    "    \"City\":[\"Lahore\",\"Karachi\",\"Islamabad\",None,\"Lahore\"],\n",
    "    \"Salary\":[50000,None,67000,57790,34567]\n",
    "}\n",
    "\n",
    "df=pd.DataFrame(data)\n",
    "print(df)\n"
   ]
  },
  {
   "cell_type": "code",
   "execution_count": 4,
   "id": "a0154398-e4e4-43a8-b2e3-f043d76d3717",
   "metadata": {},
   "outputs": [
    {
     "name": "stdout",
     "output_type": "stream",
     "text": [
      "    Name    Age   City  Salary\n",
      "0  False  False  False   False\n",
      "1  False  False  False    True\n",
      "2  False   True  False   False\n",
      "3  False  False   True   False\n",
      "4   True  False  False   False\n"
     ]
    }
   ],
   "source": [
    "print(df.isnull())"
   ]
  },
  {
   "cell_type": "code",
   "execution_count": 5,
   "id": "887c7378-a6f8-455a-b764-100c3d3693af",
   "metadata": {},
   "outputs": [
    {
     "name": "stdout",
     "output_type": "stream",
     "text": [
      "Name      1\n",
      "Age       1\n",
      "City      1\n",
      "Salary    1\n",
      "dtype: int64\n"
     ]
    }
   ],
   "source": [
    "#Count how many missing values each column has\n",
    "\n",
    "print(df.isnull().sum())"
   ]
  },
  {
   "cell_type": "code",
   "execution_count": 6,
   "id": "fe930faf-191c-41c2-9e38-aa3a7de016b2",
   "metadata": {},
   "outputs": [
    {
     "name": "stdout",
     "output_type": "stream",
     "text": [
      "Total missing: 4\n"
     ]
    }
   ],
   "source": [
    "#check total missing values in entire data frame\n",
    "\n",
    "print(\"Total missing:\",df.isnull().sum().sum())"
   ]
  },
  {
   "cell_type": "code",
   "execution_count": 9,
   "id": "f9309ef7-8564-4d1b-8360-585dabb4f687",
   "metadata": {},
   "outputs": [
    {
     "name": "stdout",
     "output_type": "stream",
     "text": [
      "     Name   Age    City   Salary\n",
      "0  Ayesha  20.0  Lahore  50000.0\n"
     ]
    }
   ],
   "source": [
    "df_cleaned=df.dropna()\n",
    "print(df_cleaned)"
   ]
  },
  {
   "cell_type": "code",
   "execution_count": 10,
   "id": "b43973bb-e173-4456-b681-de9712d13c67",
   "metadata": {},
   "outputs": [
    {
     "name": "stdout",
     "output_type": "stream",
     "text": [
      "      Name      Age       City   Salary\n",
      "0   Ayesha     20.0     Lahore  50000.0\n",
      "1      Ali     22.0    Karachi  Unknown\n",
      "2     Sara  Unknown  Islamabad  67000.0\n",
      "3   Usmann     23.0    Unknown  57790.0\n",
      "4  Unknown     24.0     Lahore  34567.0\n"
     ]
    }
   ],
   "source": [
    "df_filled=df.fillna(\"Unknown\")\n",
    "print(df_filled)"
   ]
  },
  {
   "cell_type": "code",
   "execution_count": 15,
   "id": "3553d5ba-9622-4171-b12e-159b1bd78d5c",
   "metadata": {},
   "outputs": [
    {
     "name": "stdout",
     "output_type": "stream",
     "text": [
      "            Name   Age       City   Salary\n",
      "0         Ayesha  20.0     Lahore  50000.0\n",
      "1            Ali  22.0    Karachi  53895.0\n",
      "2           Sara  25.0  Islamabad  67000.0\n",
      "3         Usmann  23.0     Lahore  57790.0\n",
      "4  Not Available  24.0     Lahore  34567.0\n"
     ]
    },
    {
     "name": "stderr",
     "output_type": "stream",
     "text": [
      "C:\\Users\\User\\AppData\\Local\\Temp\\ipykernel_17880\\3169435958.py:2: FutureWarning: A value is trying to be set on a copy of a DataFrame or Series through chained assignment using an inplace method.\n",
      "The behavior will change in pandas 3.0. This inplace method will never work because the intermediate object on which we are setting values always behaves as a copy.\n",
      "\n",
      "For example, when doing 'df[col].method(value, inplace=True)', try using 'df.method({col: value}, inplace=True)' or df[col] = df[col].method(value) instead, to perform the operation inplace on the original object.\n",
      "\n",
      "\n",
      "  df[\"Age\"].fillna(25,inplace=True)\n",
      "C:\\Users\\User\\AppData\\Local\\Temp\\ipykernel_17880\\3169435958.py:4: FutureWarning: A value is trying to be set on a copy of a DataFrame or Series through chained assignment using an inplace method.\n",
      "The behavior will change in pandas 3.0. This inplace method will never work because the intermediate object on which we are setting values always behaves as a copy.\n",
      "\n",
      "For example, when doing 'df[col].method(value, inplace=True)', try using 'df.method({col: value}, inplace=True)' or df[col] = df[col].method(value) instead, to perform the operation inplace on the original object.\n",
      "\n",
      "\n",
      "  df[\"Salary\"].fillna(df[\"Salary\"].median(),inplace=True)\n"
     ]
    }
   ],
   "source": [
    "df[\"Name\"].fillna(\"Not Available\",inplace=True)\n",
    "df[\"Age\"].fillna(25,inplace=True)\n",
    "df[\"City\"].fillna(\"Lahore\",inplace=True)\n",
    "df[\"Salary\"].fillna(df[\"Salary\"].median(),inplace=True)\n",
    "print(df)"
   ]
  },
  {
   "cell_type": "markdown",
   "id": "4c5b391a-fff2-4904-bec6-597a6ae685a9",
   "metadata": {},
   "source": [
    "<h3>HAndling Duplicate DAta</h3>"
   ]
  },
  {
   "cell_type": "code",
   "execution_count": 16,
   "id": "3bf8eeb8-228d-46ae-9eb4-f5b7d0fa15d8",
   "metadata": {},
   "outputs": [
    {
     "name": "stdout",
     "output_type": "stream",
     "text": [
      "0    False\n",
      "1    False\n",
      "2    False\n",
      "3    False\n",
      "4    False\n",
      "dtype: bool\n"
     ]
    }
   ],
   "source": [
    "print(df.duplicated())"
   ]
  },
  {
   "cell_type": "code",
   "execution_count": 18,
   "id": "0e2c8f06-75cd-4153-8ee7-d79cd6585696",
   "metadata": {},
   "outputs": [
    {
     "name": "stdout",
     "output_type": "stream",
     "text": [
      "Total Duplicates: <bound method Series.sum of 0    False\n",
      "1    False\n",
      "2    False\n",
      "3    False\n",
      "4    False\n",
      "dtype: bool> ()\n"
     ]
    }
   ],
   "source": [
    "print(\"Total Duplicates:\",df.duplicated().sum,())"
   ]
  },
  {
   "cell_type": "code",
   "execution_count": 19,
   "id": "0a02fb17-af2e-4c8a-85f7-becb881322e3",
   "metadata": {},
   "outputs": [
    {
     "name": "stdout",
     "output_type": "stream",
     "text": [
      "After removing duplicates:\n",
      "            Name   Age       City   Salary\n",
      "0         Ayesha  20.0     Lahore  50000.0\n",
      "1            Ali  22.0    Karachi  53895.0\n",
      "2           Sara  25.0  Islamabad  67000.0\n",
      "3         Usmann  23.0     Lahore  57790.0\n",
      "4  Not Available  24.0     Lahore  34567.0\n"
     ]
    }
   ],
   "source": [
    "df.drop_duplicates(inplace=True)\n",
    "print(\"After removing duplicates:\")\n",
    "print(df)"
   ]
  },
  {
   "cell_type": "code",
   "execution_count": 20,
   "id": "572e624b-ea5b-4fcd-b635-450a8c2efca4",
   "metadata": {},
   "outputs": [
    {
     "name": "stdout",
     "output_type": "stream",
     "text": [
      "Name       object\n",
      "Age       float64\n",
      "City       object\n",
      "Salary    float64\n",
      "dtype: object\n"
     ]
    }
   ],
   "source": [
    "#converting data types\n",
    "\n",
    "print(df.dtypes)"
   ]
  },
  {
   "cell_type": "code",
   "execution_count": 22,
   "id": "d6ead7c6-0721-4f0b-91f0-75b6da537adf",
   "metadata": {},
   "outputs": [
    {
     "name": "stdout",
     "output_type": "stream",
     "text": [
      "Name       object\n",
      "Age       float64\n",
      "City       object\n",
      "Salary      int64\n",
      "dtype: object\n"
     ]
    }
   ],
   "source": [
    "df[\"Salary\"]=df[\"Salary\"].astype(int)\n",
    "print(df.dtypes)"
   ]
  },
  {
   "cell_type": "code",
   "execution_count": 23,
   "id": "c5105eba-691b-4e7a-a865-26a14b0f262a",
   "metadata": {},
   "outputs": [
    {
     "name": "stdout",
     "output_type": "stream",
     "text": [
      "<class 'pandas.core.frame.DataFrame'>\n",
      "RangeIndex: 5 entries, 0 to 4\n",
      "Data columns (total 4 columns):\n",
      " #   Column  Non-Null Count  Dtype  \n",
      "---  ------  --------------  -----  \n",
      " 0   Name    5 non-null      object \n",
      " 1   Age     5 non-null      float64\n",
      " 2   City    5 non-null      object \n",
      " 3   Salary  5 non-null      int64  \n",
      "dtypes: float64(1), int64(1), object(2)\n",
      "memory usage: 292.0+ bytes\n"
     ]
    }
   ],
   "source": [
    "df.info()"
   ]
  },
  {
   "cell_type": "code",
   "execution_count": 25,
   "id": "2d80a38f-69e6-4358-8071-1a67bd4b2060",
   "metadata": {},
   "outputs": [
    {
     "data": {
      "image/png": "[encoded data removed]",
      "text/plain": [
       "<Figure size 640x480 with 1 Axes>"
      ]
     },
     "metadata": {},
     "output_type": "display_data"
    }
   ],
   "source": [
    "import matplotlib.pyplot as plt\n",
    "\n",
    "plt.boxplot(df[\"Salary\"])\n",
    "plt.title(\"Salary Distribution (Detecting Outliers)\")\n",
    "plt.ylabel(\"Salary in $\")\n",
    "plt.show()\n"
   ]
  },
  {
   "cell_type": "code",
   "execution_count": 26,
   "id": "55edf39c-56b7-40bd-a23c-1a1a763b90ed",
   "metadata": {},
   "outputs": [
    {
     "name": "stdout",
     "output_type": "stream",
     "text": [
      "            Name   Age  City  Salary\n",
      "0         Ayesha  20.0     2   50000\n",
      "1            Ali  22.0     1   53895\n",
      "2           Sara  25.0     0   67000\n",
      "3         Usmann  23.0     2   57790\n",
      "4  Not Available  24.0     2   34567\n"
     ]
    }
   ],
   "source": [
    "from sklearn.preprocessing import LabelEncoder\n",
    "\n",
    "df_encoded=df.copy()\n",
    "le=LabelEncoder()\n",
    "df_encoded[\"City\"]=le.fit_transform(df_encoded[\"City\"])\n",
    "print(df_encoded)"
   ]
  }
 ],
 "metadata": {
  "kernelspec": {
   "display_name": "Python 3 (ipykernel)",
   "language": "python",
   "name": "python3"
  },
  "language_info": {
   "codemirror_mode": {
    "name": "ipython",
    "version": 3
   },
   "file_extension": ".py",
   "mimetype": "text/x-python",
   "name": "python",
   "nbconvert_exporter": "python",
   "pygments_lexer": "ipython3",
   "version": "3.13.5"
  }
 },
 "nbformat": 4,
 "nbformat_minor": 5
}
