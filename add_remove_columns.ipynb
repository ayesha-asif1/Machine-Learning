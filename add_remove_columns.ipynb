{
 "cells": [
  {
   "cell_type": "markdown",
   "id": "f9ba367d-2266-4d40-a76d-05b8fdd9ded1",
   "metadata": {},
   "source": [
    "<h3>Adding/Removing Columns</h3>"
   ]
  },
  {
   "cell_type": "code",
   "execution_count": 7,
   "id": "e6d5fb75-183a-405e-bb19-4eada42449c9",
   "metadata": {},
   "outputs": [
    {
     "name": "stdout",
     "output_type": "stream",
     "text": [
      "   OrderID       Product     Category  Price  Quantity         City  Total  \\\n",
      "0      101    Headphones  Electronics     25         2     New York     50   \n",
      "1      102       T-Shirt     Clothing     15         1  Los Angeles     15   \n",
      "2      103  Laptop Stand  Accessories     30         3      Chicago     90   \n",
      "3      104    Coffee Mug      Kitchen     12         4      Houston     48   \n",
      "4      105         Mouse  Electronics     20         1      Chicago     20   \n",
      "5      106      Backpack  Accessories     40         2        Miami     80   \n",
      "\n",
      "   Discount  \n",
      "0       5.0  \n",
      "1       1.5  \n",
      "2       9.0  \n",
      "3       4.8  \n",
      "4       2.0  \n",
      "5       8.0  \n"
     ]
    }
   ],
   "source": [
    "# Adding new column\n",
    "\n",
    "df[\"Discount\"]=df[\"Total\"]*0.10\n",
    "print(df)"
   ]
  },
  {
   "cell_type": "code",
   "execution_count": 4,
   "id": "b5347dc7-a2cd-45b6-b2bb-765c5852ec87",
   "metadata": {},
   "outputs": [
    {
     "name": "stdout",
     "output_type": "stream",
     "text": [
      "   OrderID       Product     Category  Price  Quantity         City  Total\n",
      "0      101    Headphones  Electronics     25         2     New York     50\n",
      "1      102       T-Shirt     Clothing     15         1  Los Angeles     15\n",
      "2      103  Laptop Stand  Accessories     30         3      Chicago     90\n",
      "3      104    Coffee Mug      Kitchen     12         4      Houston     48\n",
      "4      105         Mouse  Electronics     20         1      Chicago     20\n",
      "5      106      Backpack  Accessories     40         2        Miami     80\n"
     ]
    }
   ],
   "source": [
    "import pandas as pd\n",
    "\n",
    "data = {\n",
    "    \"OrderID\": [101, 102, 103, 104, 105, 106],\n",
    "    \"Product\": [\"Headphones\", \"T-Shirt\", \"Laptop Stand\", \"Coffee Mug\", \"Mouse\", \"Backpack\"],\n",
    "    \"Category\": [\"Electronics\", \"Clothing\", \"Accessories\", \"Kitchen\", \"Electronics\", \"Accessories\"],\n",
    "    \"Price\": [25, 15, 30, 12, 20, 40],  # USD\n",
    "    \"Quantity\": [2, 1, 3, 4, 1, 2],\n",
    "    \"City\": [\"New York\", \"Los Angeles\", \"Chicago\", \"Houston\", \"Chicago\", \"Miami\"]\n",
    "}\n",
    "\n",
    "df = pd.DataFrame(data)\n",
    "df[\"Total\"] = df[\"Price\"] * df[\"Quantity\"]  # Add a 'Total' column\n",
    "\n",
    "print(df)"
   ]
  },
  {
   "cell_type": "code",
   "execution_count": 6,
   "id": "2595ae47-a313-4e09-a45b-0ab0a40fb43f",
   "metadata": {},
   "outputs": [
    {
     "name": "stdout",
     "output_type": "stream",
     "text": [
      "   OrderID       Product     Category  Price  Quantity         City  Total  \\\n",
      "0      101    Headphones  Electronics     25         2     New York     50   \n",
      "1      102       T-Shirt     Clothing     15         1  Los Angeles     15   \n",
      "2      103  Laptop Stand  Accessories     30         3      Chicago     90   \n",
      "3      104    Coffee Mug      Kitchen     12         4      Houston     48   \n",
      "4      105         Mouse  Electronics     20         1      Chicago     20   \n",
      "5      106      Backpack  Accessories     40         2        Miami     80   \n",
      "\n",
      "   Discount  \n",
      "0       5.0  \n",
      "1       1.5  \n",
      "2       9.0  \n",
      "3       4.8  \n",
      "4       2.0  \n",
      "5       8.0  \n"
     ]
    }
   ],
   "source": [
    "# Adding new column\n",
    "\n",
    "df[\"Discount\"]=df[\"Total\"]*0.10\n",
    "print(df)"
   ]
  },
  {
   "cell_type": "code",
   "execution_count": 8,
   "id": "d492315e-24c7-4bd0-a877-b440ec8da874",
   "metadata": {},
   "outputs": [
    {
     "name": "stdout",
     "output_type": "stream",
     "text": [
      "   OrderID       Product     Category  Price  Quantity         City  Total  \\\n",
      "0      101    Headphones  Electronics     25         2     New York     50   \n",
      "1      102       T-Shirt     Clothing     15         1  Los Angeles     15   \n",
      "2      103  Laptop Stand  Accessories     30         3      Chicago     90   \n",
      "3      104    Coffee Mug      Kitchen     12         4      Houston     48   \n",
      "4      105         Mouse  Electronics     20         1      Chicago     20   \n",
      "5      106      Backpack  Accessories     40         2        Miami     80   \n",
      "\n",
      "   Discount  FinalPrice  \n",
      "0       5.0        45.0  \n",
      "1       1.5        13.5  \n",
      "2       9.0        81.0  \n",
      "3       4.8        43.2  \n",
      "4       2.0        18.0  \n",
      "5       8.0        72.0  \n"
     ]
    }
   ],
   "source": [
    "# Calculating final price after discount\n",
    "\n",
    "df[\"FinalPrice\"]=df[\"Total\"]-df[\"Discount\"]\n",
    "print(df)"
   ]
  },
  {
   "cell_type": "code",
   "execution_count": 9,
   "id": "d01e5de7-c648-44b6-a086-1f84f54dc0a9",
   "metadata": {},
   "outputs": [],
   "source": [
    "#Removing a Column\n",
    "\n",
    "df=df.drop(\"Discount\",axis=1)  # axis=1 mean coloumn 1"
   ]
  },
  {
   "cell_type": "code",
   "execution_count": 10,
   "id": "640bf821-0f97-4c3f-8e80-a32ddfd64eea",
   "metadata": {},
   "outputs": [
    {
     "name": "stdout",
     "output_type": "stream",
     "text": [
      "   OrderID       Product     Category  Price  Quantity         City  Total  \\\n",
      "0      101    Headphones  Electronics     25         2     New York     50   \n",
      "1      102       T-Shirt     Clothing     15         1  Los Angeles     15   \n",
      "2      103  Laptop Stand  Accessories     30         3      Chicago     90   \n",
      "3      104    Coffee Mug      Kitchen     12         4      Houston     48   \n",
      "4      105         Mouse  Electronics     20         1      Chicago     20   \n",
      "5      106      Backpack  Accessories     40         2        Miami     80   \n",
      "\n",
      "   FinalPrice  Discount_15%  FinalPrice_15%Discount  \n",
      "0        45.0          7.50                   42.50  \n",
      "1        13.5          2.25                   12.75  \n",
      "2        81.0         13.50                   76.50  \n",
      "3        43.2          7.20                   40.80  \n",
      "4        18.0          3.00                   17.00  \n",
      "5        72.0         12.00                   68.00  \n"
     ]
    }
   ],
   "source": [
    "df[\"Discount_15%\"]=df[\"Total\"]*0.15\n",
    "df[\"FinalPrice_15%Discount\"]=df[\"Total\"]-df[\"Discount_15%\"]\n",
    "print(df)"
   ]
  },
  {
   "cell_type": "markdown",
   "id": "229bbc4c-aea8-482d-b5d9-e74dedced133",
   "metadata": {},
   "source": [
    "<h3>Sorting & Renaming Columns</h3>"
   ]
  },
  {
   "cell_type": "code",
   "execution_count": 13,
   "id": "0974add9-2196-45bf-8bbc-e4037545f616",
   "metadata": {},
   "outputs": [
    {
     "name": "stdout",
     "output_type": "stream",
     "text": [
      "   OrderID       Product     Category  Price  Quantity         City  Total  \\\n",
      "2      103  Laptop Stand  Accessories     30         3      Chicago     90   \n",
      "5      106      Backpack  Accessories     40         2        Miami     80   \n",
      "0      101    Headphones  Electronics     25         2     New York     50   \n",
      "3      104    Coffee Mug      Kitchen     12         4      Houston     48   \n",
      "4      105         Mouse  Electronics     20         1      Chicago     20   \n",
      "1      102       T-Shirt     Clothing     15         1  Los Angeles     15   \n",
      "\n",
      "   FinalPrice  Discount_15%  FinalPrice_15%Discount  \n",
      "2        81.0         13.50                   76.50  \n",
      "5        72.0         12.00                   68.00  \n",
      "0        45.0          7.50                   42.50  \n",
      "3        43.2          7.20                   40.80  \n",
      "4        18.0          3.00                   17.00  \n",
      "1        13.5          2.25                   12.75  \n"
     ]
    }
   ],
   "source": [
    "#Sorting Rows by a Column\n",
    "#Example: Sort by Final Price (Highest First)\n",
    "\n",
    "print(df.sort_values(by=\"FinalPrice_15%Discount\",ascending=False))"
   ]
  },
  {
   "cell_type": "code",
   "execution_count": 14,
   "id": "cea533c7-8236-41dd-8148-163a4b2dc8b0",
   "metadata": {},
   "outputs": [
    {
     "name": "stdout",
     "output_type": "stream",
     "text": [
      "   OrderID       Product     Category  Price  Quantity         City  Total  \\\n",
      "2      103  Laptop Stand  Accessories     30         3      Chicago     90   \n",
      "4      105         Mouse  Electronics     20         1      Chicago     20   \n",
      "3      104    Coffee Mug      Kitchen     12         4      Houston     48   \n",
      "1      102       T-Shirt     Clothing     15         1  Los Angeles     15   \n",
      "5      106      Backpack  Accessories     40         2        Miami     80   \n",
      "0      101    Headphones  Electronics     25         2     New York     50   \n",
      "\n",
      "   FinalPrice  Discount_15%  FinalPrice_15%Discount  \n",
      "2        81.0         13.50                   76.50  \n",
      "4        18.0          3.00                   17.00  \n",
      "3        43.2          7.20                   40.80  \n",
      "1        13.5          2.25                   12.75  \n",
      "5        72.0         12.00                   68.00  \n",
      "0        45.0          7.50                   42.50  \n"
     ]
    }
   ],
   "source": [
    "#Sorting by Multiple Columns\n",
    "#Example: First by City, then by Total\n",
    "\n",
    "print(df.sort_values(by=[\"City\",\"Total\"], ascending=[True,False]))"
   ]
  },
  {
   "cell_type": "code",
   "execution_count": 15,
   "id": "9f0af8ed-d7b7-4461-8720-923a1756ea92",
   "metadata": {},
   "outputs": [],
   "source": [
    "#Rename Columns\n",
    "\n",
    "df=df.rename(columns={\n",
    "    \"FinalPrice_15%Discount\":\"FinalPrice\",\n",
    "    \"Discount_15%\":\"Discount\"\n",
    "})"
   ]
  },
  {
   "cell_type": "code",
   "execution_count": 16,
   "id": "5af0c678-c0a1-49b2-9bae-d90cdee5ddbb",
   "metadata": {},
   "outputs": [
    {
     "name": "stdout",
     "output_type": "stream",
     "text": [
      "   OrderID       Product     Category  Price  Quantity         City  Total  \\\n",
      "0      101    Headphones  Electronics     25         2     New York     50   \n",
      "1      102       T-Shirt     Clothing     15         1  Los Angeles     15   \n",
      "2      103  Laptop Stand  Accessories     30         3      Chicago     90   \n",
      "3      104    Coffee Mug      Kitchen     12         4      Houston     48   \n",
      "4      105         Mouse  Electronics     20         1      Chicago     20   \n",
      "5      106      Backpack  Accessories     40         2        Miami     80   \n",
      "\n",
      "   FinalPrice  Discount  FinalPrice  \n",
      "0        45.0      7.50       42.50  \n",
      "1        13.5      2.25       12.75  \n",
      "2        81.0     13.50       76.50  \n",
      "3        43.2      7.20       40.80  \n",
      "4        18.0      3.00       17.00  \n",
      "5        72.0     12.00       68.00  \n"
     ]
    }
   ],
   "source": [
    "print(df)"
   ]
  },
  {
   "cell_type": "code",
   "execution_count": null,
   "id": "1c967a36-9b64-471e-bb04-8627d8b6126a",
   "metadata": {},
   "outputs": [],
   "source": []
  }
 ],
 "metadata": {
  "kernelspec": {
   "display_name": "Python 3 (ipykernel)",
   "language": "python",
   "name": "python3"
  },
  "language_info": {
   "codemirror_mode": {
    "name": "ipython",
    "version": 3
   },
   "file_extension": ".py",
   "mimetype": "text/x-python",
   "name": "python",
   "nbconvert_exporter": "python",
   "pygments_lexer": "ipython3",
   "version": "3.13.5"
  }
 },
 "nbformat": 4,
 "nbformat_minor": 5
}
