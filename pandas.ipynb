{
 "cells": [
  {
   "cell_type": "markdown",
   "id": "877e9b98-81f0-46e2-8f92-9932aa7581b6",
   "metadata": {},
   "source": [
    "<h3>Pandas</h3>"
   ]
  },
  {
   "cell_type": "code",
   "execution_count": 1,
   "id": "06374b8a-3381-4948-bfa4-1cd87c0ac124",
   "metadata": {},
   "outputs": [],
   "source": [
    "import pandas as pd\n"
   ]
  },
  {
   "cell_type": "code",
   "execution_count": 2,
   "id": "ea29f605-5300-464e-ba60-f6b4240f3d70",
   "metadata": {},
   "outputs": [
    {
     "name": "stdout",
     "output_type": "stream",
     "text": [
      "   OrderID       Product     Category  Price  Quantity         City  Total\n",
      "0      101    Headphones  Electronics     25         1     New York     25\n",
      "1      102       T-Shirt     Clothing     45         2  Los Angeles     90\n",
      "2      103  Laptop Stand  Accessories     78         3      Chicago    234\n",
      "3      104    Coffee Mug      Kitchen     12         4      Houston     48\n",
      "4      105         Mouse  Electronics     78         5      Chicago    390\n",
      "5      106      BackPack  Accessories     90         7        Miami    630\n"
     ]
    }
   ],
   "source": [
    "data={\n",
    "    \"OrderID\":[101,102,103,104,105,106],\n",
    "    \"Product\":[\"Headphones\",\"T-Shirt\",\"Laptop Stand\",\"Coffee Mug\",\"Mouse\",\"BackPack\"],\n",
    "    \"Category\":[\"Electronics\",\"Clothing\",\"Accessories\",\"Kitchen\",\"Electronics\",\"Accessories\"],\n",
    "    \"Price\":[25,45,78,12,78,90],\n",
    "    \"Quantity\":[1,2,3,4,5,7],\n",
    "    \"City\":[\"New York\", \"Los Angeles\", \"Chicago\", \"Houston\", \"Chicago\", \"Miami\"]\n",
    "}\n",
    "df=pd.DataFrame(data)\n",
    "df[\"Total\"]=df[\"Price\"]*df[\"Quantity\"]\n",
    "print(df)"
   ]
  },
  {
   "cell_type": "markdown",
   "id": "1cf54155-e3d3-4226-8466-517a402f2574",
   "metadata": {},
   "source": [
    "<h3>Basic Operations</h3>"
   ]
  },
  {
   "cell_type": "code",
   "execution_count": 3,
   "id": "bc24f601-6f31-4463-b1c7-523c0dbcce84",
   "metadata": {},
   "outputs": [
    {
     "name": "stdout",
     "output_type": "stream",
     "text": [
      "\n",
      "Total REvenue: 1417\n"
     ]
    }
   ],
   "source": [
    "print(\"\\nTotal REvenue:\",df[\"Total\"].sum())"
   ]
  },
  {
   "cell_type": "code",
   "execution_count": 5,
   "id": "d94a1829-1f27-418f-8ac5-38c5f9244b79",
   "metadata": {},
   "outputs": [
    {
     "name": "stdout",
     "output_type": "stream",
     "text": [
      "Best selling product: Headphones\n"
     ]
    }
   ],
   "source": [
    "print(\"Best selling product:\",df[\"Product\"].value_counts().idxmax())"
   ]
  },
  {
   "cell_type": "code",
   "execution_count": 7,
   "id": "9fd59723-a3cb-4bd2-ae98-afcced11e359",
   "metadata": {},
   "outputs": [
    {
     "name": "stdout",
     "output_type": "stream",
     "text": [
      "Most orders City: Chicago\n"
     ]
    }
   ],
   "source": [
    "print(\"Most orders City:\",df[\"City\"].value_counts().idxmax())"
   ]
  },
  {
   "cell_type": "code",
   "execution_count": 8,
   "id": "e2e6ee3e-99a2-40ad-9567-b479687fd60b",
   "metadata": {},
   "outputs": [
    {
     "name": "stdout",
     "output_type": "stream",
     "text": [
      "Orders with total>50:\n",
      "   OrderID       Product     Category  Price  Quantity         City  Total\n",
      "1      102       T-Shirt     Clothing     45         2  Los Angeles     90\n",
      "2      103  Laptop Stand  Accessories     78         3      Chicago    234\n",
      "4      105         Mouse  Electronics     78         5      Chicago    390\n",
      "5      106      BackPack  Accessories     90         7        Miami    630\n"
     ]
    }
   ],
   "source": [
    "print(\"Orders with total>50:\")\n",
    "print(df[df[\"Total\"]>50])"
   ]
  },
  {
   "cell_type": "code",
   "execution_count": 9,
   "id": "ed6aff13-ffd2-48df-8c2f-4b1c5393ea04",
   "metadata": {},
   "outputs": [
    {
     "name": "stdout",
     "output_type": "stream",
     "text": [
      "   OrderID       Product     Category  Price  Quantity     City  Total\n",
      "2      103  Laptop Stand  Accessories     78         3  Chicago    234\n",
      "4      105         Mouse  Electronics     78         5  Chicago    390\n"
     ]
    }
   ],
   "source": [
    "print(df[(df[\"Total\"] >= 100) & (df[\"Total\"] <= 500)])\n"
   ]
  },
  {
   "cell_type": "code",
   "execution_count": null,
   "id": "8daeadeb-0971-4b16-a0c2-c4b283bed052",
   "metadata": {},
   "outputs": [],
   "source": []
  }
 ],
 "metadata": {
  "kernelspec": {
   "display_name": "Python 3 (ipykernel)",
   "language": "python",
   "name": "python3"
  },
  "language_info": {
   "codemirror_mode": {
    "name": "ipython",
    "version": 3
   },
   "file_extension": ".py",
   "mimetype": "text/x-python",
   "name": "python",
   "nbconvert_exporter": "python",
   "pygments_lexer": "ipython3",
   "version": "3.13.5"
  }
 },
 "nbformat": 4,
 "nbformat_minor": 5
}
