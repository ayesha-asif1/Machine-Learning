{
 "cells": [
  {
   "cell_type": "markdown",
   "id": "4276dc85-8ebb-46c4-b9af-030ac4342f67",
   "metadata": {},
   "source": [
    "<h3>Reshaping Arrays</h3>"
   ]
  },
  {
   "cell_type": "code",
   "execution_count": 2,
   "id": "38db6d62-7250-4630-92dd-d386a4d1fe89",
   "metadata": {},
   "outputs": [
    {
     "name": "stdout",
     "output_type": "stream",
     "text": [
      "[[1 2 3]\n",
      " [4 5 6]]\n",
      "[[1 2]\n",
      " [3 4]\n",
      " [5 6]]\n"
     ]
    }
   ],
   "source": [
    "import numpy as np\n",
    "arr=np.array([1,2,3,4,5,6])\n",
    "print(arr.reshape(2,3))\n",
    "print(arr.reshape(3,2))"
   ]
  },
  {
   "cell_type": "markdown",
   "id": "49de47e6-2a32-4a68-bb50-84afdc4f5225",
   "metadata": {},
   "source": [
    "<h3>Slicing(Selecting parts of arrays)</h3>"
   ]
  },
  {
   "cell_type": "code",
   "execution_count": 4,
   "id": "87b12b50-17a8-4871-9009-d491bc6c247c",
   "metadata": {},
   "outputs": [
    {
     "name": "stdout",
     "output_type": "stream",
     "text": [
      "[20 30 40]\n",
      "[10 20 30]\n",
      "[50 60]\n"
     ]
    }
   ],
   "source": [
    "arr=np.array([10,20,30,40,50,60])\n",
    "print(arr[1:4])\n",
    "print(arr[:3])\n",
    "print(arr[-2:])"
   ]
  },
  {
   "cell_type": "code",
   "execution_count": 5,
   "id": "1a505c18-cf65-4de9-9fa7-22742f745954",
   "metadata": {},
   "outputs": [
    {
     "name": "stdout",
     "output_type": "stream",
     "text": [
      "2\n",
      "[4 5 6]\n",
      "[3 6 0]\n"
     ]
    }
   ],
   "source": [
    "# for 2D arrays\n",
    "\n",
    "arr=np.array([[1,2,3],[4,5,6],[8,9,0]])\n",
    "print(arr[0,1])\n",
    "print(arr[1,:])\n",
    "print(arr[:,2])"
   ]
  },
  {
   "cell_type": "code",
   "execution_count": 9,
   "id": "2c0427cf-0287-4ce2-98b0-7f5c05bc07b6",
   "metadata": {},
   "outputs": [
    {
     "name": "stdout",
     "output_type": "stream",
     "text": [
      "[11 12 13 14]\n",
      "[[ 6  7  8]\n",
      " [ 9 10 11]\n",
      " [12 13 14]]\n",
      "[[11 22 33]\n",
      " [14 25 36]\n",
      " [17 28 39]]\n"
     ]
    }
   ],
   "source": [
    "#Broadcasting\n",
    "\n",
    "arr=np.array([1,2,3,4])\n",
    "print(arr+10)\n",
    "matrix=np.array([[1,2,3],[4,5,6],[7,8,9]])\n",
    "print(matrix+5)\n",
    "print(matrix+np.array([10,20,30]))"
   ]
  },
  {
   "cell_type": "code",
   "execution_count": 17,
   "id": "82f0a4e2-a710-49d6-bf4e-f1b3e86384b4",
   "metadata": {},
   "outputs": [
    {
     "name": "stdout",
     "output_type": "stream",
     "text": [
      "Original\n",
      "[[ 1  2  3  4]\n",
      " [ 5  6  7  8]\n",
      " [ 9 10 11 12]]\n",
      "Second row: [5 6 7 8]\n",
      "After adding 5 to last Column:\n",
      "[[ 1  2  3  9]\n",
      " [ 5  6  7 13]\n",
      " [ 9 10 11 17]]\n"
     ]
    }
   ],
   "source": [
    "print(\"Original\")\n",
    "arr=np.array([[1,2,3,4],[5,6,7,8],[9,10,11,12]])\n",
    "print(arr)\n",
    "print(\"Second row:\",arr[1,:])\n",
    "print(\"After adding 5 to last Column:\")\n",
    "arr[:, -1] = arr[:, -1] + 5\n",
    "print(arr)"
   ]
  },
  {
   "cell_type": "code",
   "execution_count": null,
   "id": "955d1660-8f53-4f5f-b5d4-49c70895e3ce",
   "metadata": {},
   "outputs": [],
   "source": []
  }
 ],
 "metadata": {
  "kernelspec": {
   "display_name": "Python 3 (ipykernel)",
   "language": "python",
   "name": "python3"
  },
  "language_info": {
   "codemirror_mode": {
    "name": "ipython",
    "version": 3
   },
   "file_extension": ".py",
   "mimetype": "text/x-python",
   "name": "python",
   "nbconvert_exporter": "python",
   "pygments_lexer": "ipython3",
   "version": "3.13.5"
  }
 },
 "nbformat": 4,
 "nbformat_minor": 5
}
